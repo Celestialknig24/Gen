import os
import pickle
from pathlib import Path
from docx import Document
from PyPDF2 import PdfReader

# Assuming you have the necessary imports and definitions for the VertexAI models

def initialize_models():
    # Placeholder for actual VertexAI initialization
    ilm = VertexAI(model="gemini-pro", top_k=5, top_p=0.9, temperature=0.7, max_output_tokens=2048)
    embeddings = VertexAIEmbeddings(model_name="textermbedding-gecko@latest")
    return ilm, embeddings

def read_text_from_docx(file_path):
    doc = Document(file_path)
    return "\n".join([para.text for para in doc.paragraphs])

def read_text_from_pdf(file_path):
    reader = PdfReader(file_path)
    text = ""
    for page in reader.pages:
        text += page.extract_text() + "\n"
    return text

def read_text_from_txt(file_path):
    with open(file_path, 'r', encoding='utf-8') as file:
        return file.read()

def read_documents(folder_path):
    documents = []
    for file_path in Path(folder_path).glob('*'):
        if file_path.suffix == '.docx':
            text = read_text_from_docx(file_path)
        elif file_path.suffix == '.pdf':
            text = read_text_from_pdf(file_path)
        elif file_path.suffix == '.txt':
            text = read_text_from_txt(file_path)
        else:
            print(f"Unsupported file format: {file_path.suffix}")
            continue
        documents.append((file_path.name, text))
    return documents

def vectorize_documents(documents, embeddings_model):
    vectors = []
    for doc_name, text in documents:
        vector = embeddings_model.embed(text)
        vectors.append((doc_name, vector))
    return vectors

def save_vectors_to_pickle(vectors, output_path):
    with open(output_path, 'wb') as file:
        pickle.dump(vectors, file)

def main():
    folder_path = "folder1/Docu"
    output_pickle_path = "Docu.pkl"
    
    ilm, embeddings = initialize_models()
    documents = read_documents(folder_path)
    vectors = vectorize_documents(documents, embeddings)
    save_vectors_to_pickle(vectors, output_pickle_path)

if __name__ == "__main__":
    main()
