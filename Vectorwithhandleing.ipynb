import os
import pickle
from pathlib import Path
from docx import Document
from PyPDF2 import PdfReader
import openpyxl

# Placeholder for VertexAI model definitions
def initialize_models():
    # Replace with actual VertexAI model initialization
    ilm = VertexAI(model="gemini-pro", top_k=5, top_p=0.9, temperature=0.7, max_output_tokens=2048)
    embeddings = VertexAIEmbeddings(model_name="textermbedding-gecko@latest")
    return ilm, embeddings

def read_text_from_docx(file_path):
    try:
        doc = Document(file_path)
        return "\n".join([para.text for para in doc.paragraphs])
    except Exception as e:
        print(f"Error reading DOCX file {file_path}: {e}")
        return None

def read_text_from_pdf(file_path):
    try:
        reader = PdfReader(file_path)
        text = ""
        for page in reader.pages:
            text += page.extract_text() + "\n"
        return text
    except Exception as e:
        print(f"Error reading PDF file {file_path}: {e}")
        return None

def read_text_from_txt(file_path):
    try:
        with open(file_path, 'r', encoding='utf-8') as file:
            return file.read()
    except Exception as e:
        print(f"Error reading TXT file {file_path}: {e}")
        return None

def read_text_from_xlsx(file_path):
    try:
        wb = openpyxl.load_workbook(file_path)
        text = ""
        for sheet in wb.worksheets:
            for row in sheet.iter_rows(values_only=True):
                for cell in row:
                    if cell is not None:
                        text += str(cell) + "\t"
                text += "\n"
        return text
    except Exception as e:
        print(f"Error reading XLSX file {file_path}: {e}")
        return None

def read_documents(folder_path):
    documents = []
    for file_path in Path(folder_path).glob('*'):
        text = None
        if file_path.suffix == '.docx':
            text = read_text_from_docx(file_path)
        elif file_path.suffix == '.pdf':
            text = read_text_from_pdf(file_path)
        elif file_path.suffix == '.txt':
            text = read_text_from_txt(file_path)
        elif file_path.suffix == '.xlsx':
            text = read_text_from_xlsx(file_path)
        else:
            print(f"Unsupported file format: {file_path.suffix}")
        
        if text:
            documents.append((file_path.name, text))
    
    return documents

def vectorize_documents(documents, embeddings_model):
    vectors = []
    for doc_name, text in documents:
        try:
            vector = embeddings_model.embed(text)
            vectors.append((doc_name, vector))
        except Exception as e:
            print(f"Error vectorizing document {doc_name}: {e}")
    return vectors

def save_vectors_to_pickle(vectors, output_path):
    with open(output_path, 'wb') as file:
        pickle.dump(vectors, file)

def main():
    folder_path = "/home/jupyter/vector_store/sharepoint_docs/All Technicians"
    output_pickle_path = "All Technicians.pkl"
    
    ilm, embeddings = initialize_models()
    documents = read_documents(folder_path)
    vectors = vectorize_documents(documents, embeddings)
    save_vectors_to_pickle(vectors, output_pickle_path)

if __name__ == "__main__":
    main()
