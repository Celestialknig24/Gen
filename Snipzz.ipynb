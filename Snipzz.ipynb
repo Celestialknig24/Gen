def create_and_save_faiss_index(embeddings, documents, index_path='faiss_index.pkl'):
    dimension = len(embeddings[0])
    index = faiss.IndexFlatL2(dimension)  # Build the index
    faiss_index = FAISS(
        embedding_function=None,  # This can be set to your embedding function if needed
        index=index,
        docstore=InMemoryDocstore({i: doc for i, doc in enumerate(documents)}),
        index_to_docstore_id={i: i for i in range(len(documents))}
    )
    faiss_index.add(embeddings, documents)
    with open(index_path, 'wb') as f:
        pickle.dump(faiss_index, f)
