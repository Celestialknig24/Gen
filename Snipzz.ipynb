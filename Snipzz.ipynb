def create_and_save_faiss_index(embeddings, documents, index_path='faiss_index.pkl'):
    dimension = len(embeddings[0])
    index = faiss.IndexFlatL2(dimension)  # Build the index
    index.add(embeddings)
    faiss_index = FAISS(
        embeddings=index,
        documents=documents
    )
    with open(index_path, 'wb') as f:
        pickle.dump(faiss_index, f)
