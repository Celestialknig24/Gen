def create_and_save_faiss_index(embeddings, documents, index_path='faiss_index.pkl', docs_path='docs.pkl'):
    dimension = len(embeddings[0])
    index = faiss.IndexFlatL2(dimension)  # Build the index
    embeddings_array = np.array(embeddings).astype(np.float32)
    index.add(embeddings_array)
    with open(index_path, 'wb') as f:
        pickle.dump(index, f)
    with open(docs_path, 'wb') as f:
        pickle.dump(documents, f)

def load_faiss_index(index_path='faiss_index.pkl', docs_path='docs.pkl'):
    with open(index_path, 'rb') as f:
        index = pickle.load(f)
    with open(docs_path, 'rb') as f:
        documents = pickle.load(f)
    return index, documents

def perform_rag(query, faiss_index, documents, embedding_model):
    query_embedding = embedding_model.embed_documents([query])[0]
    query_embedding_array = np.array([query_embedding]).astype(np.float32)
    D, I = faiss_index.search(query_embedding_array, k=5)  # Retrieve top 5 results
    results = [documents[i] for i in I[0]]
    return results
