def create_and_save_faiss_index(embeddings, documents, index_path='faiss_index.pkl'):
    dimension = len(embeddings[0])
    index = faiss.IndexFlatL2(dimension)  # Build the index
    embeddings_array = np.array(embeddings).astype(np.float32)
    index.add(embeddings_array)
    faiss_index = FAISS(
        embeddings=index,
        documents=documents
    )
    with open(index_path, 'wb') as f:
        pickle.dump(faiss_index, f)
